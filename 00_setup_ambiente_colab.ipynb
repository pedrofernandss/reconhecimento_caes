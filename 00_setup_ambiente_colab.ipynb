{
  "nbformat": 4,
  "nbformat_minor": 0,
  "metadata": {
    "colab": {
      "provenance": [],
      "authorship_tag": "ABX9TyOxKMUnonuLhoROFk458IO1",
      "include_colab_link": true
    },
    "kernelspec": {
      "name": "python3",
      "display_name": "Python 3"
    },
    "language_info": {
      "name": "python"
    }
  },
  "cells": [
    {
      "cell_type": "markdown",
      "metadata": {
        "id": "view-in-github",
        "colab_type": "text"
      },
      "source": [
        "<a href=\"https://colab.research.google.com/github/pedrofernandss/reconhecimento_caes/blob/main/00_setup_ambiente_colab.ipynb\" target=\"_parent\"><img src=\"https://colab.research.google.com/assets/colab-badge.svg\" alt=\"Open In Colab\"/></a>"
      ]
    },
    {
      "cell_type": "code",
      "execution_count": null,
      "metadata": {
        "id": "ZTmsHOXqaf1W"
      },
      "outputs": [],
      "source": [
        "from google.colab import drive\n",
        "drive.mount('/content/drive')"
      ]
    },
    {
      "cell_type": "code",
      "source": [
        "!git config --global user.name \"Pedro Fernandes\"\n",
        "!git config --global user.name pedrofernandes.olv@gmail.com"
      ],
      "metadata": {
        "id": "mAOoLTQBajwl"
      },
      "execution_count": null,
      "outputs": []
    },
    {
      "cell_type": "code",
      "source": [
        "!git clone https://github.com/pedrofernandss/reconhecimento_caes.git"
      ],
      "metadata": {
        "id": "7fA1osaCalRu"
      },
      "execution_count": null,
      "outputs": []
    },
    {
      "cell_type": "code",
      "source": [
        "!pip install -r ./reconhecimento_caes/requirements.txt"
      ],
      "metadata": {
        "id": "nfWF1hSGanFT"
      },
      "execution_count": null,
      "outputs": []
    }
  ]
}